{
 "cells": [
  {
   "cell_type": "code",
   "execution_count": 1,
   "id": "762b9687",
   "metadata": {},
   "outputs": [],
   "source": [
    "import numpy as np\n",
    "import pandas as pd\n",
    "import matplotlib.pyplot as plt\n",
    "import seaborn as sns\n",
    "from sklearn.model_selection import train_test_split\n",
    "from sklearn.preprocessing import StandardScaler, MinMaxScaler\n",
    "from sklearn.metrics import confusion_matrix, classification_report, accuracy_score\n",
    "from tensorflow.keras.models import Model\n",
    "from tensorflow.keras.layers import Input, Dense\n",
    "from tensorflow.keras.optimizers import Adam"
   ]
  },
  {
   "cell_type": "code",
   "execution_count": 2,
   "id": "de12da96",
   "metadata": {},
   "outputs": [],
   "source": [
    "#Load the dataset\n",
    "data = pd.read_csv('train.csv', parse_dates=['pickup_datetime', 'dropoff_datetime'])"
   ]
  },
  {
   "cell_type": "code",
   "execution_count": 3,
   "id": "fa4b3feb",
   "metadata": {},
   "outputs": [],
   "source": [
    "#Preprocess the dataset\n",
    "# Calculate trip_duration in minutes\n",
    "data['trip_duration'] = data['trip_duration'] / 60\n",
    "\n",
    "# Extract relevant features\n",
    "data['pickup_hour'] = data['pickup_datetime'].dt.hour\n",
    "data['pickup_day'] = data['pickup_datetime'].dt.dayofweek\n",
    "data = data[['pickup_longitude', 'pickup_latitude', 'dropoff_longitude', 'dropoff_latitude', 'trip_duration', 'pickup_hour', 'pickup_day']]\n",
    "\n",
    "# Scale the dataset\n",
    "scaler = MinMaxScaler()\n",
    "data_scaled = pd.DataFrame(scaler.fit_transform(data), columns=data.columns)"
   ]
  },
  {
   "cell_type": "code",
   "execution_count": 4,
   "id": "15060890",
   "metadata": {},
   "outputs": [],
   "source": [
    "#Split the dataset into training and testing sets\n",
    "X = data_scaled.drop('trip_duration', axis=1)\n",
    "y = data_scaled['trip_duration']\n",
    "\n",
    "X_train, X_test, y_train, y_test = train_test_split(X, y, test_size=0.2, random_state=42)"
   ]
  },
  {
   "cell_type": "code",
   "execution_count": 5,
   "id": "9b343895",
   "metadata": {
    "scrolled": true
   },
   "outputs": [
    {
     "name": "stderr",
     "output_type": "stream",
     "text": [
      "C:\\Users\\Professional\\anaconda3\\lib\\site-packages\\keras\\optimizers\\optimizer_v2\\adam.py:110: UserWarning: The `lr` argument is deprecated, use `learning_rate` instead.\n",
      "  super(Adam, self).__init__(name, **kwargs)\n"
     ]
    },
    {
     "name": "stdout",
     "output_type": "stream",
     "text": [
      "Epoch 1/100\n",
      "9117/9117 [==============================] - 32s 3ms/step - loss: 0.0179 - val_loss: 0.0126\n",
      "Epoch 2/100\n",
      "9117/9117 [==============================] - 29s 3ms/step - loss: 0.0126 - val_loss: 0.0125\n",
      "Epoch 3/100\n",
      "9117/9117 [==============================] - 29s 3ms/step - loss: 0.0125 - val_loss: 0.0125\n",
      "Epoch 4/100\n",
      "9117/9117 [==============================] - 30s 3ms/step - loss: 0.0125 - val_loss: 0.0125\n",
      "Epoch 5/100\n",
      "9117/9117 [==============================] - 30s 3ms/step - loss: 0.0125 - val_loss: 0.0125\n",
      "Epoch 6/100\n",
      "9117/9117 [==============================] - 29s 3ms/step - loss: 0.0125 - val_loss: 0.0125\n",
      "Epoch 7/100\n",
      "9117/9117 [==============================] - 30s 3ms/step - loss: 0.0125 - val_loss: 0.0125\n",
      "Epoch 8/100\n",
      "9117/9117 [==============================] - 28s 3ms/step - loss: 0.0125 - val_loss: 0.0125\n",
      "Epoch 9/100\n",
      "9117/9117 [==============================] - 29s 3ms/step - loss: 0.0125 - val_loss: 0.0125\n",
      "Epoch 10/100\n",
      "9117/9117 [==============================] - 29s 3ms/step - loss: 0.0125 - val_loss: 0.0125\n",
      "Epoch 11/100\n",
      "9117/9117 [==============================] - 29s 3ms/step - loss: 0.0125 - val_loss: 0.0125\n",
      "Epoch 12/100\n",
      "9117/9117 [==============================] - 29s 3ms/step - loss: 0.0125 - val_loss: 0.0125\n",
      "Epoch 13/100\n",
      "9117/9117 [==============================] - 29s 3ms/step - loss: 0.0125 - val_loss: 0.0125\n",
      "Epoch 14/100\n",
      "9117/9117 [==============================] - 28s 3ms/step - loss: 0.0125 - val_loss: 0.0125\n",
      "Epoch 15/100\n",
      "9117/9117 [==============================] - 29s 3ms/step - loss: 0.0125 - val_loss: 0.0125\n",
      "Epoch 16/100\n",
      "9117/9117 [==============================] - 29s 3ms/step - loss: 0.0125 - val_loss: 0.0125\n",
      "Epoch 17/100\n",
      "9117/9117 [==============================] - 29s 3ms/step - loss: 0.0125 - val_loss: 0.0125\n",
      "Epoch 18/100\n",
      "9117/9117 [==============================] - 29s 3ms/step - loss: 0.0125 - val_loss: 0.0125\n",
      "Epoch 19/100\n",
      "9117/9117 [==============================] - 28s 3ms/step - loss: 0.0125 - val_loss: 0.0125\n",
      "Epoch 20/100\n",
      "9117/9117 [==============================] - 29s 3ms/step - loss: 0.0125 - val_loss: 0.0125\n",
      "Epoch 21/100\n",
      "9117/9117 [==============================] - 29s 3ms/step - loss: 0.0125 - val_loss: 0.0125\n",
      "Epoch 22/100\n",
      "9117/9117 [==============================] - 29s 3ms/step - loss: 0.0125 - val_loss: 0.0125\n",
      "Epoch 23/100\n",
      "9117/9117 [==============================] - 29s 3ms/step - loss: 0.0125 - val_loss: 0.0125\n",
      "Epoch 24/100\n",
      "9117/9117 [==============================] - 29s 3ms/step - loss: 0.0125 - val_loss: 0.0125\n",
      "Epoch 25/100\n",
      "9117/9117 [==============================] - 29s 3ms/step - loss: 0.0125 - val_loss: 0.0125\n",
      "Epoch 26/100\n",
      "9117/9117 [==============================] - 29s 3ms/step - loss: 0.0125 - val_loss: 0.0125\n",
      "Epoch 27/100\n",
      "9117/9117 [==============================] - 28s 3ms/step - loss: 0.0125 - val_loss: 0.0125\n",
      "Epoch 28/100\n",
      "9117/9117 [==============================] - 29s 3ms/step - loss: 0.0125 - val_loss: 0.0125\n",
      "Epoch 29/100\n",
      "9117/9117 [==============================] - 29s 3ms/step - loss: 0.0125 - val_loss: 0.0125\n",
      "Epoch 30/100\n",
      "9117/9117 [==============================] - 29s 3ms/step - loss: 0.0125 - val_loss: 0.0125\n",
      "Epoch 31/100\n",
      "9117/9117 [==============================] - 29s 3ms/step - loss: 0.0125 - val_loss: 0.0125\n",
      "Epoch 32/100\n",
      "9117/9117 [==============================] - 28s 3ms/step - loss: 0.0125 - val_loss: 0.0125\n",
      "Epoch 33/100\n",
      "9117/9117 [==============================] - 29s 3ms/step - loss: 0.0125 - val_loss: 0.0125\n",
      "Epoch 34/100\n",
      "9117/9117 [==============================] - 29s 3ms/step - loss: 0.0125 - val_loss: 0.0125\n",
      "Epoch 35/100\n",
      "9117/9117 [==============================] - 29s 3ms/step - loss: 0.0125 - val_loss: 0.0125\n",
      "Epoch 36/100\n",
      "9117/9117 [==============================] - 29s 3ms/step - loss: 0.0125 - val_loss: 0.0125\n",
      "Epoch 37/100\n",
      "9117/9117 [==============================] - 29s 3ms/step - loss: 0.0125 - val_loss: 0.0125\n",
      "Epoch 38/100\n",
      "9117/9117 [==============================] - 29s 3ms/step - loss: 0.0125 - val_loss: 0.0125\n",
      "Epoch 39/100\n",
      "9117/9117 [==============================] - 29s 3ms/step - loss: 0.0125 - val_loss: 0.0125\n",
      "Epoch 40/100\n",
      "9117/9117 [==============================] - 29s 3ms/step - loss: 0.0125 - val_loss: 0.0125\n",
      "Epoch 41/100\n",
      "9117/9117 [==============================] - 29s 3ms/step - loss: 0.0125 - val_loss: 0.0125\n",
      "Epoch 42/100\n",
      "9117/9117 [==============================] - 29s 3ms/step - loss: 0.0125 - val_loss: 0.0125\n",
      "Epoch 43/100\n",
      "9117/9117 [==============================] - 29s 3ms/step - loss: 0.0125 - val_loss: 0.0125\n",
      "Epoch 44/100\n",
      "9117/9117 [==============================] - 29s 3ms/step - loss: 0.0125 - val_loss: 0.0125\n",
      "Epoch 45/100\n",
      "9117/9117 [==============================] - 29s 3ms/step - loss: 0.0125 - val_loss: 0.0125\n",
      "Epoch 46/100\n",
      "9117/9117 [==============================] - 29s 3ms/step - loss: 0.0125 - val_loss: 0.0125\n",
      "Epoch 47/100\n",
      "9117/9117 [==============================] - 31s 3ms/step - loss: 0.0125 - val_loss: 0.0125\n",
      "Epoch 48/100\n",
      "9117/9117 [==============================] - 32s 4ms/step - loss: 0.0125 - val_loss: 0.0125\n",
      "Epoch 49/100\n",
      "9117/9117 [==============================] - 32s 3ms/step - loss: 0.0125 - val_loss: 0.0125\n",
      "Epoch 50/100\n",
      "9117/9117 [==============================] - 32s 4ms/step - loss: 0.0125 - val_loss: 0.0125\n",
      "Epoch 51/100\n",
      "9117/9117 [==============================] - 32s 3ms/step - loss: 0.0125 - val_loss: 0.0125\n",
      "Epoch 52/100\n",
      "9117/9117 [==============================] - 31s 3ms/step - loss: 0.0125 - val_loss: 0.0125\n",
      "Epoch 53/100\n",
      "9117/9117 [==============================] - 32s 4ms/step - loss: 0.0125 - val_loss: 0.0125\n",
      "Epoch 54/100\n",
      "9117/9117 [==============================] - 31s 3ms/step - loss: 0.0125 - val_loss: 0.0125\n",
      "Epoch 55/100\n",
      "9117/9117 [==============================] - 30s 3ms/step - loss: 0.0125 - val_loss: 0.0125\n",
      "Epoch 56/100\n",
      "9117/9117 [==============================] - 30s 3ms/step - loss: 0.0125 - val_loss: 0.0125\n",
      "Epoch 57/100\n",
      "9117/9117 [==============================] - 30s 3ms/step - loss: 0.0125 - val_loss: 0.0125\n",
      "Epoch 58/100\n",
      "9117/9117 [==============================] - 29s 3ms/step - loss: 0.0125 - val_loss: 0.0125\n",
      "Epoch 59/100\n",
      "9117/9117 [==============================] - 30s 3ms/step - loss: 0.0125 - val_loss: 0.0125\n",
      "Epoch 60/100\n",
      "9117/9117 [==============================] - 31s 3ms/step - loss: 0.0125 - val_loss: 0.0125\n",
      "Epoch 61/100\n",
      "9117/9117 [==============================] - 30s 3ms/step - loss: 0.0125 - val_loss: 0.0125\n",
      "Epoch 62/100\n",
      "9117/9117 [==============================] - 29s 3ms/step - loss: 0.0125 - val_loss: 0.0125\n",
      "Epoch 63/100\n",
      "9117/9117 [==============================] - 30s 3ms/step - loss: 0.0125 - val_loss: 0.0125\n",
      "Epoch 64/100\n",
      "9117/9117 [==============================] - 32s 4ms/step - loss: 0.0125 - val_loss: 0.0125\n",
      "Epoch 65/100\n",
      "9117/9117 [==============================] - 30s 3ms/step - loss: 0.0125 - val_loss: 0.0125\n",
      "Epoch 66/100\n",
      "9117/9117 [==============================] - 30s 3ms/step - loss: 0.0125 - val_loss: 0.0125\n",
      "Epoch 67/100\n",
      "9117/9117 [==============================] - 30s 3ms/step - loss: 0.0125 - val_loss: 0.0125\n",
      "Epoch 68/100\n",
      "9117/9117 [==============================] - 31s 3ms/step - loss: 0.0125 - val_loss: 0.0125\n",
      "Epoch 69/100\n",
      "9117/9117 [==============================] - 30s 3ms/step - loss: 0.0125 - val_loss: 0.0125\n",
      "Epoch 70/100\n",
      "9117/9117 [==============================] - 29s 3ms/step - loss: 0.0125 - val_loss: 0.0125\n",
      "Epoch 71/100\n",
      "9117/9117 [==============================] - 29s 3ms/step - loss: 0.0125 - val_loss: 0.0125\n",
      "Epoch 72/100\n",
      "9117/9117 [==============================] - 31s 3ms/step - loss: 0.0125 - val_loss: 0.0125\n",
      "Epoch 73/100\n",
      "9117/9117 [==============================] - 31s 3ms/step - loss: 0.0125 - val_loss: 0.0125\n",
      "Epoch 74/100\n",
      "9117/9117 [==============================] - 31s 3ms/step - loss: 0.0125 - val_loss: 0.0125\n",
      "Epoch 75/100\n",
      "9117/9117 [==============================] - 29s 3ms/step - loss: 0.0125 - val_loss: 0.0125\n",
      "Epoch 76/100\n",
      "9117/9117 [==============================] - 30s 3ms/step - loss: 0.0125 - val_loss: 0.0125\n",
      "Epoch 77/100\n",
      "9117/9117 [==============================] - 29s 3ms/step - loss: 0.0125 - val_loss: 0.0125\n",
      "Epoch 78/100\n",
      "9117/9117 [==============================] - 29s 3ms/step - loss: 0.0125 - val_loss: 0.0125\n",
      "Epoch 79/100\n"
     ]
    },
    {
     "name": "stdout",
     "output_type": "stream",
     "text": [
      "9117/9117 [==============================] - 29s 3ms/step - loss: 0.0125 - val_loss: 0.0125\n",
      "Epoch 80/100\n",
      "9117/9117 [==============================] - 29s 3ms/step - loss: 0.0125 - val_loss: 0.0125\n",
      "Epoch 81/100\n",
      "9117/9117 [==============================] - 30s 3ms/step - loss: 0.0125 - val_loss: 0.0125\n",
      "Epoch 82/100\n",
      "9117/9117 [==============================] - 30s 3ms/step - loss: 0.0125 - val_loss: 0.0125\n",
      "Epoch 83/100\n",
      "9117/9117 [==============================] - 29s 3ms/step - loss: 0.0125 - val_loss: 0.0125\n",
      "Epoch 84/100\n",
      "9117/9117 [==============================] - 31s 3ms/step - loss: 0.0125 - val_loss: 0.0125\n",
      "Epoch 85/100\n",
      "9117/9117 [==============================] - 30s 3ms/step - loss: 0.0125 - val_loss: 0.0125\n",
      "Epoch 86/100\n",
      "9117/9117 [==============================] - 30s 3ms/step - loss: 0.0125 - val_loss: 0.0125\n",
      "Epoch 87/100\n",
      "9117/9117 [==============================] - 31s 3ms/step - loss: 0.0125 - val_loss: 0.0125\n",
      "Epoch 88/100\n",
      "9117/9117 [==============================] - 33s 4ms/step - loss: 0.0125 - val_loss: 0.0125\n",
      "Epoch 89/100\n",
      "9117/9117 [==============================] - 32s 4ms/step - loss: 0.0125 - val_loss: 0.0125\n",
      "Epoch 90/100\n",
      "9117/9117 [==============================] - 32s 3ms/step - loss: 0.0125 - val_loss: 0.0125\n",
      "Epoch 91/100\n",
      "9117/9117 [==============================] - 32s 3ms/step - loss: 0.0125 - val_loss: 0.0125\n",
      "Epoch 92/100\n",
      "9117/9117 [==============================] - 32s 3ms/step - loss: 0.0125 - val_loss: 0.0125\n",
      "Epoch 93/100\n",
      "9117/9117 [==============================] - 31s 3ms/step - loss: 0.0125 - val_loss: 0.0125\n",
      "Epoch 94/100\n",
      "9117/9117 [==============================] - 30s 3ms/step - loss: 0.0125 - val_loss: 0.0125\n",
      "Epoch 95/100\n",
      "9117/9117 [==============================] - 29s 3ms/step - loss: 0.0125 - val_loss: 0.0125\n",
      "Epoch 96/100\n",
      "9117/9117 [==============================] - 30s 3ms/step - loss: 0.0125 - val_loss: 0.0125\n",
      "Epoch 97/100\n",
      "9117/9117 [==============================] - 29s 3ms/step - loss: 0.0125 - val_loss: 0.0125\n",
      "Epoch 98/100\n",
      "9117/9117 [==============================] - 30s 3ms/step - loss: 0.0125 - val_loss: 0.0125\n",
      "Epoch 99/100\n",
      "9117/9117 [==============================] - 30s 3ms/step - loss: 0.0125 - val_loss: 0.0125\n",
      "Epoch 100/100\n",
      "9117/9117 [==============================] - 29s 3ms/step - loss: 0.0125 - val_loss: 0.0125\n"
     ]
    }
   ],
   "source": [
    "#Build and train the Autoencoder model\n",
    "input_dim = X_train.shape[1]\n",
    "encoding_dim = int(input_dim / 2)\n",
    "\n",
    "input_layer = Input(shape=(input_dim,))\n",
    "encoder = Dense(encoding_dim, activation='relu')(input_layer)\n",
    "decoder = Dense(input_dim, activation='sigmoid')(encoder)\n",
    "\n",
    "autoencoder = Model(inputs=input_layer, outputs=decoder)\n",
    "\n",
    "autoencoder.compile(optimizer=Adam(lr=0.001), loss='mean_squared_error')\n",
    "\n",
    "history = autoencoder.fit(X_train, X_train, epochs=100, batch_size=128, validation_data=(X_test, X_test), verbose=1)\n"
   ]
  },
  {
   "cell_type": "code",
   "execution_count": 7,
   "id": "63b61886",
   "metadata": {},
   "outputs": [
    {
     "name": "stdout",
     "output_type": "stream",
     "text": [
      "36467/36467 [==============================] - 39s 1ms/step\n",
      "9117/9117 [==============================] - 10s 1ms/step\n",
      "Training set accuracy: 0.900\n",
      "Test set accuracy: 0.900\n"
     ]
    }
   ],
   "source": [
    "#Evaluate the model\n",
    "X_train_pred = autoencoder.predict(X_train)\n",
    "X_test_pred = autoencoder.predict(X_test)\n",
    "\n",
    "train_mse = np.mean(np.power(X_train - X_train_pred, 2), axis=1)\n",
    "test_mse = np.mean(np.power(X_test - X_test_pred, 2), axis=1)\n",
    "\n",
    "mse_threshold = np.quantile(train_mse, 0.90)\n",
    "\n",
    "y_pred_train = [1 if mse > mse_threshold else 0 for mse in train_mse]\n",
    "y_pred_test = [1 if mse > mse_threshold else 0 for mse in test_mse]\n",
    "\n",
    "y_train_binary = np.where(y_train > 7200, 1, 0)\n",
    "y_test_binary = np.where(y_test > 7200, 1, 0)\n",
    "\n",
    "print(\"Training set accuracy: {:.3f}\".format(accuracy_score(y_train_binary, y_pred_train)))\n",
    "print(\"Test set accuracy: {:.3f}\".format(accuracy_score(y_test_binary, y_pred_test)))"
   ]
  },
  {
   "cell_type": "code",
   "execution_count": 8,
   "id": "8a69dced",
   "metadata": {},
   "outputs": [
    {
     "data": {
      "image/png": "[encoded data removed]",
      "text/plain": [
       "<Figure size 720x432 with 1 Axes>"
      ]
     },
     "metadata": {
      "needs_background": "light"
     },
     "output_type": "display_data"
    }
   ],
   "source": [
    "#Visualize the results\n",
    "plt.figure(figsize=(10, 6))\n",
    "plt.plot(history.history['loss'], label='Training Loss')\n",
    "plt.plot(history.history['val_loss'], label='Validation Loss')\n",
    "plt.title('Training and Validation Loss')\n",
    "plt.xlabel('Epochs')\n",
    "plt.ylabel('Loss')\n",
    "plt.legend()\n",
    "plt.show()"
   ]
  },
  {
   "cell_type": "code",
   "execution_count": 9,
   "id": "b528a900",
   "metadata": {},
   "outputs": [
    {
     "data": {
      "image/png": "[encoded data removed]",
      "text/plain": [
       "<Figure size 720x432 with 1 Axes>"
      ]
     },
     "metadata": {
      "needs_background": "light"
     },
     "output_type": "display_data"
    }
   ],
   "source": [
    "# Visualize the distribution of MSE on the test set\n",
    "plt.figure(figsize=(10, 6))\n",
    "sns.histplot(test_mse, kde=True, bins=50)\n",
    "plt.axvline(x=mse_threshold, color='r', linestyle='--', label='MSE Threshold')\n",
    "plt.title('MSE Distribution on Test Set')\n",
    "plt.xlabel('Mean Squared Error')\n",
    "plt.legend()\n",
    "plt.show()"
   ]
  },
  {
   "cell_type": "code",
   "execution_count": 11,
   "id": "c843f83b",
   "metadata": {},
   "outputs": [
    {
     "data": {
      "image/png": "[encoded data removed]",
      "text/plain": [
       "<Figure size 720x432 with 1 Axes>"
      ]
     },
     "metadata": {
      "needs_background": "light"
     },
     "output_type": "display_data"
    }
   ],
   "source": [
    "# Visualize the anomalies on a scatter plot\n",
    "y_pred_test = np.array(y_pred_test)\n",
    "anomalies = X_test.iloc[y_pred_test == 1]\n",
    "normal_data = X_test.iloc[y_pred_test == 0]\n",
    "\n",
    "plt.figure(figsize=(10, 6))\n",
    "plt.scatter(normal_data.index, normal_data['pickup_longitude'], c='b', label='Normal Data', alpha=0.5)\n",
    "plt.scatter(anomalies.index, anomalies['pickup_longitude'], c='r', label='Anomalies', alpha=0.5)\n",
    "plt.title('Anomalies Detected in Test Set')\n",
    "plt.xlabel('Index')\n",
    "plt.ylabel('Pickup Longitude')\n",
    "plt.legend()\n",
    "plt.show()"
   ]
  },
  {
   "cell_type": "code",
   "execution_count": null,
   "id": "365e0649",
   "metadata": {},
   "outputs": [],
   "source": []
  }
 ],
 "metadata": {
  "kernelspec": {
   "display_name": "Python 3 (ipykernel)",
   "language": "python",
   "name": "python3"
  },
  "language_info": {
   "codemirror_mode": {
    "name": "ipython",
    "version": 3
   },
   "file_extension": ".py",
   "mimetype": "text/x-python",
   "name": "python",
   "nbconvert_exporter": "python",
   "pygments_lexer": "ipython3",
   "version": "3.9.12"
  }
 },
 "nbformat": 4,
 "nbformat_minor": 5
}
